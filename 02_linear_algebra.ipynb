{
  "nbformat": 4,
  "nbformat_minor": 0,
  "metadata": {
    "colab": {
      "provenance": [],
      "authorship_tag": "ABX9TyOonDW9fTBvuU2HpUR1j3U4",
      "include_colab_link": true
    },
    "kernelspec": {
      "name": "python3",
      "display_name": "Python 3"
    },
    "language_info": {
      "name": "python"
    }
  },
  "cells": [
    {
      "cell_type": "markdown",
      "metadata": {
        "id": "view-in-github",
        "colab_type": "text"
      },
      "source": [
        "<a href=\"https://colab.research.google.com/github/KacperWardzala/data-science-bootcamp2023/blob/main/02_linear_algebra.ipynb\" target=\"_parent\"><img src=\"https://colab.research.google.com/assets/colab-badge.svg\" alt=\"Open In Colab\"/></a>"
      ]
    },
    {
      "cell_type": "code",
      "source": [
        "import numpy as np"
      ],
      "metadata": {
        "id": "ylb6224rDT74"
      },
      "execution_count": 1,
      "outputs": []
    },
    {
      "cell_type": "markdown",
      "source": [
        "### Vector norm, Length of a vector in R^2"
      ],
      "metadata": {
        "id": "le-HqkvYCxiS"
      }
    },
    {
      "cell_type": "code",
      "source": [
        "v1 = np.array([-1, 4])\n",
        "v1"
      ],
      "metadata": {
        "colab": {
          "base_uri": "https://localhost:8080/"
        },
        "id": "re8krxmmC_zP",
        "outputId": "d106e128-6a48-4d46-c740-2496df500d6a"
      },
      "execution_count": null,
      "outputs": [
        {
          "output_type": "execute_result",
          "data": {
            "text/plain": [
              "array([-1,  4])"
            ]
          },
          "metadata": {},
          "execution_count": 4
        }
      ]
    },
    {
      "cell_type": "code",
      "source": [
        "np.linalg.norm(v1)"
      ],
      "metadata": {
        "colab": {
          "base_uri": "https://localhost:8080/"
        },
        "id": "QfqAzVclDcXL",
        "outputId": "faa93b3e-2fc6-426d-dcff-a1e755161960"
      },
      "execution_count": null,
      "outputs": [
        {
          "output_type": "execute_result",
          "data": {
            "text/plain": [
              "4.123105625617661"
            ]
          },
          "metadata": {},
          "execution_count": 5
        }
      ]
    },
    {
      "cell_type": "markdown",
      "source": [
        "Euclidean norm for R^n"
      ],
      "metadata": {
        "id": "ZmKri5XcEksH"
      }
    },
    {
      "cell_type": "code",
      "source": [
        "v2 = np.array([-10, 10, 13])\n",
        "np.linalg.norm(v2)"
      ],
      "metadata": {
        "colab": {
          "base_uri": "https://localhost:8080/"
        },
        "id": "eEMp3McgDfbR",
        "outputId": "eeb4db99-a5ca-4bdb-ab15-24d1705cc5fb"
      },
      "execution_count": null,
      "outputs": [
        {
          "output_type": "execute_result",
          "data": {
            "text/plain": [
              "19.209372712298546"
            ]
          },
          "metadata": {},
          "execution_count": 6
        }
      ]
    },
    {
      "cell_type": "markdown",
      "source": [
        "Distance between two points on the plane"
      ],
      "metadata": {
        "id": "eiAdNQeXEzI0"
      }
    },
    {
      "cell_type": "code",
      "source": [
        "p = np.array([3, 0])\n",
        "q = np.array([0, 4])\n",
        "\n",
        "np.linalg.norm([p - q])"
      ],
      "metadata": {
        "colab": {
          "base_uri": "https://localhost:8080/"
        },
        "id": "u550pPh3ER_B",
        "outputId": "9efe60df-51a6-4825-a861-2e0d97576279"
      },
      "execution_count": null,
      "outputs": [
        {
          "output_type": "execute_result",
          "data": {
            "text/plain": [
              "5.0"
            ]
          },
          "metadata": {},
          "execution_count": 8
        }
      ]
    },
    {
      "cell_type": "markdown",
      "source": [
        "# Distance between two points in R^2"
      ],
      "metadata": {
        "id": "xpdoN-fTFxJt"
      }
    },
    {
      "cell_type": "code",
      "source": [
        "p = np.array([3, 0, 1])\n",
        "q = np.array([0, 4, 2])\n",
        "\n",
        "np.linalg.norm([p - q])"
      ],
      "metadata": {
        "colab": {
          "base_uri": "https://localhost:8080/"
        },
        "id": "mOukfOKEFnkF",
        "outputId": "e91b3b98-ff19-4b23-bbf4-1dcd4e84386b"
      },
      "execution_count": null,
      "outputs": [
        {
          "output_type": "execute_result",
          "data": {
            "text/plain": [
              "5.0990195135927845"
            ]
          },
          "metadata": {},
          "execution_count": 9
        }
      ]
    },
    {
      "cell_type": "markdown",
      "source": [
        "# Matrix Multiplication\n",
        "To multiply two matrices, the number of columns in the left matrix must match the number of rows in the right matrix."
      ],
      "metadata": {
        "id": "-pUK565KGSXC"
      }
    },
    {
      "cell_type": "code",
      "source": [
        "X = np.array([[5, 3], [3, 9]])\n",
        "Y = np.array([[1], [-1]])\n",
        "\n",
        "print(X, '\\n')\n",
        "print(Y)"
      ],
      "metadata": {
        "colab": {
          "base_uri": "https://localhost:8080/"
        },
        "id": "lw6uX5TpGRzJ",
        "outputId": "a7154577-f7e2-4263-e37f-a6d7599f439e"
      },
      "execution_count": null,
      "outputs": [
        {
          "output_type": "stream",
          "name": "stdout",
          "text": [
            "[[5 3]\n",
            " [3 9]]\n",
            "[[ 1]\n",
            " [-1]]\n"
          ]
        }
      ]
    },
    {
      "cell_type": "code",
      "source": [
        "Z = np.dot(X, Y)\n",
        "print(Z)"
      ],
      "metadata": {
        "colab": {
          "base_uri": "https://localhost:8080/"
        },
        "id": "x3J1KjKFHb9H",
        "outputId": "5618bfcf-b9b8-4e8e-d0db-8a5ef9b993ce"
      },
      "execution_count": null,
      "outputs": [
        {
          "output_type": "stream",
          "name": "stdout",
          "text": [
            "[[ 2]\n",
            " [-6]]\n"
          ]
        }
      ]
    },
    {
      "cell_type": "code",
      "source": [
        "Z.shape"
      ],
      "metadata": {
        "colab": {
          "base_uri": "https://localhost:8080/"
        },
        "id": "7oiFDZN0HCCB",
        "outputId": "e30d57cf-eff2-45d0-9d95-ec61f472439c"
      },
      "execution_count": null,
      "outputs": [
        {
          "output_type": "execute_result",
          "data": {
            "text/plain": [
              "(2, 1)"
            ]
          },
          "metadata": {},
          "execution_count": 19
        }
      ]
    },
    {
      "cell_type": "markdown",
      "source": [
        "Przykład 2"
      ],
      "metadata": {
        "id": "VAjty0AQH3d0"
      }
    },
    {
      "cell_type": "code",
      "source": [
        "X = np.array([[2, -3, 2],\n",
        "              [3, 2, 1]])\n",
        "Y = np.array([[2, 1, -1],\n",
        "             [8, 2, 3],\n",
        "             [3, 2, 0]])\n",
        "print(X, '\\n')\n",
        "print(Y)"
      ],
      "metadata": {
        "colab": {
          "base_uri": "https://localhost:8080/"
        },
        "id": "M4iPODzlHRXN",
        "outputId": "2d49436f-d59c-4d31-c7af-59a9b7ce1703"
      },
      "execution_count": null,
      "outputs": [
        {
          "output_type": "stream",
          "name": "stdout",
          "text": [
            "[[ 2 -3  2]\n",
            " [ 3  2  1]] \n",
            "\n",
            "[[ 2  1 -1]\n",
            " [ 8  2  3]\n",
            " [ 3  2  0]]\n"
          ]
        }
      ]
    },
    {
      "cell_type": "code",
      "source": [
        "Z = np.dot(X, Y)\n",
        "print(Z)"
      ],
      "metadata": {
        "colab": {
          "base_uri": "https://localhost:8080/"
        },
        "id": "pYleZUzjH_zR",
        "outputId": "de03b525-a12d-4d22-bb18-9183a8f49949"
      },
      "execution_count": null,
      "outputs": [
        {
          "output_type": "stream",
          "name": "stdout",
          "text": [
            "[[-14   0 -11]\n",
            " [ 25   9   3]]\n"
          ]
        }
      ]
    },
    {
      "cell_type": "markdown",
      "source": [
        "# Matrix determinant\n",
        "A - matrix size: nxn"
      ],
      "metadata": {
        "id": "tpSzFB02UElT"
      }
    },
    {
      "cell_type": "markdown",
      "source": [
        "|A| - matrix determinant\n"
      ],
      "metadata": {
        "id": "6nMvyodlUjpy"
      }
    },
    {
      "cell_type": "code",
      "source": [
        " A = np.array([[2, 4], [-1, 3]])\n",
        " round(np.linalg.det(A))"
      ],
      "metadata": {
        "colab": {
          "base_uri": "https://localhost:8080/"
        },
        "id": "tOPPY25tUSF0",
        "outputId": "df0c5b06-7eaa-464b-c35f-395d576dc28b"
      },
      "execution_count": 3,
      "outputs": [
        {
          "output_type": "execute_result",
          "data": {
            "text/plain": [
              "10"
            ]
          },
          "metadata": {},
          "execution_count": 3
        }
      ]
    },
    {
      "cell_type": "markdown",
      "source": [
        "# Matrix trace"
      ],
      "metadata": {
        "id": "0mjW5O2RVlkh"
      }
    },
    {
      "cell_type": "code",
      "source": [
        "A = np.array([[2, 4], [-1, 3]])\n",
        "np.trace(A)"
      ],
      "metadata": {
        "colab": {
          "base_uri": "https://localhost:8080/"
        },
        "id": "v8rvkH4MVqSX",
        "outputId": "e4d19d65-ddbc-42a6-a2b1-406a8d977b9e"
      },
      "execution_count": 4,
      "outputs": [
        {
          "output_type": "execute_result",
          "data": {
            "text/plain": [
              "5"
            ]
          },
          "metadata": {},
          "execution_count": 4
        }
      ]
    },
    {
      "cell_type": "markdown",
      "source": [
        "# Identity matrix"
      ],
      "metadata": {
        "id": "KIfrK0AyWGvr"
      }
    },
    {
      "cell_type": "code",
      "source": [
        "np.eye(5, dtype='int')"
      ],
      "metadata": {
        "colab": {
          "base_uri": "https://localhost:8080/"
        },
        "id": "uZR1CpomV_qN",
        "outputId": "0b829a68-d1e8-45bf-fd7e-d7970bd0640d"
      },
      "execution_count": 5,
      "outputs": [
        {
          "output_type": "execute_result",
          "data": {
            "text/plain": [
              "array([[1, 0, 0, 0, 0],\n",
              "       [0, 1, 0, 0, 0],\n",
              "       [0, 0, 1, 0, 0],\n",
              "       [0, 0, 0, 1, 0],\n",
              "       [0, 0, 0, 0, 1]])"
            ]
          },
          "metadata": {},
          "execution_count": 5
        }
      ]
    },
    {
      "cell_type": "markdown",
      "source": [
        "# Inverse matrix"
      ],
      "metadata": {
        "id": "gxEcSLReWVQR"
      }
    },
    {
      "cell_type": "code",
      "source": [
        "A = np.array([[2, 4], [-1, 3]])\n",
        "A"
      ],
      "metadata": {
        "colab": {
          "base_uri": "https://localhost:8080/"
        },
        "id": "wzWnfsODWXJt",
        "outputId": "f2162b4c-b5f0-45b3-8426-03195f8ebd76"
      },
      "execution_count": 7,
      "outputs": [
        {
          "output_type": "execute_result",
          "data": {
            "text/plain": [
              "array([[ 2,  4],\n",
              "       [-1,  3]])"
            ]
          },
          "metadata": {},
          "execution_count": 7
        }
      ]
    },
    {
      "cell_type": "code",
      "source": [
        "B = np.linalg.inv(A)\n",
        "B"
      ],
      "metadata": {
        "colab": {
          "base_uri": "https://localhost:8080/"
        },
        "id": "piF7sv9AWmos",
        "outputId": "f0bc43db-ccee-4efb-a8cb-b71d2dd70b7e"
      },
      "execution_count": 10,
      "outputs": [
        {
          "output_type": "execute_result",
          "data": {
            "text/plain": [
              "array([[ 0.3, -0.4],\n",
              "       [ 0.1,  0.2]])"
            ]
          },
          "metadata": {},
          "execution_count": 10
        }
      ]
    },
    {
      "cell_type": "code",
      "source": [
        "np.dot(A, B)"
      ],
      "metadata": {
        "colab": {
          "base_uri": "https://localhost:8080/"
        },
        "id": "qOD8bschWtM7",
        "outputId": "bf2a0db2-43df-4120-a7a5-38710b423875"
      },
      "execution_count": 11,
      "outputs": [
        {
          "output_type": "execute_result",
          "data": {
            "text/plain": [
              "array([[1.00000000e+00, 0.00000000e+00],\n",
              "       [2.77555756e-17, 1.00000000e+00]])"
            ]
          },
          "metadata": {},
          "execution_count": 11
        }
      ]
    },
    {
      "cell_type": "code",
      "source": [
        "np.dot(B, A)"
      ],
      "metadata": {
        "colab": {
          "base_uri": "https://localhost:8080/"
        },
        "id": "s564RxQHW4kE",
        "outputId": "be73bf39-8c21-4d04-f6b7-cb5f8c62ca94"
      },
      "execution_count": 12,
      "outputs": [
        {
          "output_type": "execute_result",
          "data": {
            "text/plain": [
              "array([[ 1.00000000e+00, -1.11022302e-16],\n",
              "       [ 0.00000000e+00,  1.00000000e+00]])"
            ]
          },
          "metadata": {},
          "execution_count": 12
        }
      ]
    },
    {
      "cell_type": "markdown",
      "source": [
        "# Transpose matrix"
      ],
      "metadata": {
        "id": "G5D1X0DiXA32"
      }
    },
    {
      "cell_type": "code",
      "source": [
        "A"
      ],
      "metadata": {
        "colab": {
          "base_uri": "https://localhost:8080/"
        },
        "id": "gekqU-JMXCn5",
        "outputId": "1d8e7a9d-84ee-4222-bb9f-ee217fb5fc59"
      },
      "execution_count": 13,
      "outputs": [
        {
          "output_type": "execute_result",
          "data": {
            "text/plain": [
              "array([[ 2,  4],\n",
              "       [-1,  3]])"
            ]
          },
          "metadata": {},
          "execution_count": 13
        }
      ]
    },
    {
      "cell_type": "code",
      "source": [
        "np.transpose(A)"
      ],
      "metadata": {
        "colab": {
          "base_uri": "https://localhost:8080/"
        },
        "id": "vP-ioNykXLdQ",
        "outputId": "10d3c3d7-9b6c-4661-8c7e-c85f7181c532"
      },
      "execution_count": 14,
      "outputs": [
        {
          "output_type": "execute_result",
          "data": {
            "text/plain": [
              "array([[ 2, -1],\n",
              "       [ 4,  3]])"
            ]
          },
          "metadata": {},
          "execution_count": 14
        }
      ]
    },
    {
      "cell_type": "code",
      "source": [
        "A.T"
      ],
      "metadata": {
        "colab": {
          "base_uri": "https://localhost:8080/"
        },
        "id": "Sw-Kc9_gXN1u",
        "outputId": "7e47f776-a3bb-4c1b-e5e4-cc15cf856559"
      },
      "execution_count": 16,
      "outputs": [
        {
          "output_type": "execute_result",
          "data": {
            "text/plain": [
              "array([[ 2, -1],\n",
              "       [ 4,  3]])"
            ]
          },
          "metadata": {},
          "execution_count": 16
        }
      ]
    },
    {
      "cell_type": "markdown",
      "source": [
        "# Solving systems of equations"
      ],
      "metadata": {
        "id": "-H4fY-i6XoGk"
      }
    },
    {
      "cell_type": "markdown",
      "source": [
        "AX = B"
      ],
      "metadata": {
        "id": "pYy2Cd0mYQLD"
      }
    },
    {
      "cell_type": "markdown",
      "source": [
        "X = A^-1 B"
      ],
      "metadata": {
        "id": "uDBbnruyYR0R"
      }
    },
    {
      "cell_type": "markdown",
      "source": [
        "![image.png](data:image/png;base64,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)"
      ],
      "metadata": {
        "id": "dKN3612NZEOJ"
      }
    },
    {
      "cell_type": "code",
      "source": [
        "A = np.array([[2, 4], [1, -1]])\n",
        "print(A)"
      ],
      "metadata": {
        "colab": {
          "base_uri": "https://localhost:8080/"
        },
        "id": "6qrx6xuwXOl1",
        "outputId": "ebf54754-a14a-4456-f9d4-3752ba841634"
      },
      "execution_count": 18,
      "outputs": [
        {
          "output_type": "stream",
          "name": "stdout",
          "text": [
            "[[ 2  4]\n",
            " [ 1 -1]]\n"
          ]
        }
      ]
    },
    {
      "cell_type": "code",
      "source": [
        "B = np.array ([[10], [-1]])\n",
        "print(B)"
      ],
      "metadata": {
        "colab": {
          "base_uri": "https://localhost:8080/"
        },
        "id": "BpY9veTTZdNy",
        "outputId": "be6b9d7a-1d2c-4b51-8f52-8716a359fe24"
      },
      "execution_count": 20,
      "outputs": [
        {
          "output_type": "stream",
          "name": "stdout",
          "text": [
            "[[10]\n",
            " [-1]]\n"
          ]
        }
      ]
    },
    {
      "cell_type": "code",
      "source": [
        "A_inv = np.linalg.inv(A)\n",
        "X = np.dot(A_inv, B)\n",
        "X"
      ],
      "metadata": {
        "colab": {
          "base_uri": "https://localhost:8080/"
        },
        "id": "DhxJ4fGTZmpJ",
        "outputId": "60366863-2f2d-46c9-baf5-7026d43a5e08"
      },
      "execution_count": 23,
      "outputs": [
        {
          "output_type": "execute_result",
          "data": {
            "text/plain": [
              "array([[1.],\n",
              "       [2.]])"
            ]
          },
          "metadata": {},
          "execution_count": 23
        }
      ]
    },
    {
      "cell_type": "code",
      "source": [
        "X.shape"
      ],
      "metadata": {
        "colab": {
          "base_uri": "https://localhost:8080/"
        },
        "id": "LDWgUNVwZszv",
        "outputId": "f2ab8acc-3806-4868-da79-c63a92045215"
      },
      "execution_count": 24,
      "outputs": [
        {
          "output_type": "execute_result",
          "data": {
            "text/plain": [
              "(2, 1)"
            ]
          },
          "metadata": {},
          "execution_count": 24
        }
      ]
    }
  ]
}